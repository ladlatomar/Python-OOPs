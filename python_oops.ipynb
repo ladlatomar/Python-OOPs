{
  "nbformat": 4,
  "nbformat_minor": 0,
  "metadata": {
    "colab": {
      "provenance": []
    },
    "kernelspec": {
      "name": "python3",
      "display_name": "Python 3"
    },
    "language_info": {
      "name": "python"
    }
  },
  "cells": [
    {
      "cell_type": "markdown",
      "source": [
        "#1: What is Object-Oriented Programming (OOP)\n",
        "Ans: Object-Oriented Programming (OOP) is a programming paradigm that's centered around objects, which are instances of classes. It’s a way of organizing and structuring your code so it's more modular, reusable, and easier to maintain."
      ],
      "metadata": {
        "id": "wH3j2r_K4yXJ"
      }
    },
    {
      "cell_type": "markdown",
      "source": [
        "#2: What is a class in OOP\n",
        "Ans: A class in Object-Oriented Programming (OOP) is like a blueprint or template for creating objects.\n",
        "\n",
        "Think of it like an architectural plan for a house. You can use that plan to build many houses (objects), and each house can have different details (like paint color, furniture, etc.), but they all follow the same structure.\n",
        "\n",
        "\n"
      ],
      "metadata": {
        "id": "KmkJ0efx5Cfv"
      }
    },
    {
      "cell_type": "markdown",
      "source": [
        "#3: What is an object in OOP\n",
        "Ans: An object is a specific instance of a class — it’s the real thing you can interact with, based on the class blueprint.\n",
        "\n",
        "If a class is the plan or recipe, the object is the actual product made from that plan — like a cake made from a recipe 🍰."
      ],
      "metadata": {
        "id": "YaIJWsZv5Vy4"
      }
    },
    {
      "cell_type": "markdown",
      "source": [
        "#4: What is the difference between abstraction and encapsulation\n",
        "Ans: Abstraction = Hiding Complexity\n",
        "\"Show only what's necessary. Hide the details.\"\n",
        "\n",
        "Focus: What an object does.\n",
        "\n",
        "Goal: Simplify usage by hiding internal workings.\n",
        "\n",
        "Encapsulation = Hiding Data\n",
        "\"Protect the internal state of the object.\"\n",
        "\n",
        "Focus: How the object maintains its state.\n",
        "\n",
        "Goal: Protect data by restricting direct access."
      ],
      "metadata": {
        "id": "zxZ1ZXLR5xdR"
      }
    },
    {
      "cell_type": "markdown",
      "source": [
        "#5:  What are dunder methods in Python\n",
        "Ans: Dunder methods (short for \"double underscore\") are special methods in Python that allow you to define how your objects behave with built-in functions and operators. They're also known as magic methods.\n",
        "\n",
        "These methods are not meant to be called directly; instead, Python calls them internally when you perform certain operations."
      ],
      "metadata": {
        "id": "Uj7J_5tL6G54"
      }
    },
    {
      "cell_type": "markdown",
      "source": [
        "#6: Explain the concept of inheritance in OOP\n",
        "Ans: ​In Object-Oriented Programming (OOP), inheritance is a fundamental concept that allows one class (known as a subclass or child class) to acquire the attributes and methods of another class (known as a superclass or parent class). This mechanism promotes code reusability, organization, and the creation of hierarchical relationships between classes.​"
      ],
      "metadata": {
        "id": "t_Rz_kob6WTm"
      }
    },
    {
      "cell_type": "markdown",
      "source": [
        "#7: What is polymorphism in OOP\n",
        "Ans: In Object-Oriented Programming (OOP), polymorphism is a fundamental concept that allows objects of different classes to be treated as objects of a common superclass. The term \"polymorphism\" comes from Greek, meaning \"many forms,\" and in programming, it enables a single interface to represent different underlying forms (data types)."
      ],
      "metadata": {
        "id": "AS2BbTFI6h8x"
      }
    },
    {
      "cell_type": "markdown",
      "source": [
        "#8: H How is encapsulation achieved in Python\n",
        "Ans: ​In Python, encapsulation is achieved by bundling data (attributes) and methods (functions) that operate on that data within a single unit, typically a class. This approach hides the internal state of an object and restricts direct access to some of its components, promoting modularity and protecting the integrity of the data."
      ],
      "metadata": {
        "id": "o0_tUAiM6zkg"
      }
    },
    {
      "cell_type": "markdown",
      "source": [
        "#9: What is a constructor in Python\n",
        "Ans: ​In Python, a constructor is a special method used to initialize newly created objects. The primary constructor method in Python is __init__(), which is automatically invoked when a new instance of a class is created. Its main purpose is to set up the initial state of the object by assigning values to its attributes.​"
      ],
      "metadata": {
        "id": "ySVPcyXQ7EOi"
      }
    },
    {
      "cell_type": "markdown",
      "source": [
        "#10: What are class and static methods in Python\n",
        "Ans: ​In Python, class methods and static methods are two types of methods that differ in how they interact with the class and its instances. Here's an overview of each\n",
        " Class Method\n",
        "Definition: A method bound to the class rather than its instances. It takes the class itself as the first parameter, conventionally named cls.​\n",
        "\n",
        "Usage: Class methods are used for operations that pertain to the class as a whole, such as modifying class-level attributes or creating instances in a specific way\n",
        "\n",
        "Static Method\n",
        "Definition: A method that doesn't take self or cls as its first parameter. It behaves like a regular function but resides within the class's namespace.​\n",
        "\n",
        "Usage: Static methods are used for utility functions that are related to the class but don't need access to instance or class-specific data.​\n",
        "GeeksforGeeks\n",
        "+3\n"
      ],
      "metadata": {
        "id": "DpbiITlL7P4R"
      }
    },
    {
      "cell_type": "markdown",
      "source": [
        "#11: What is method overloading in Python\n",
        "Ans: ​In Python, method overloading refers to the ability to define multiple methods within a class that share the same name but differ in the number or type of their parameters. This concept allows a method to perform different tasks based on the arguments passed to it, enhancing code readability and flexibility."
      ],
      "metadata": {
        "id": "Fo2iA3B47qJ8"
      }
    },
    {
      "cell_type": "markdown",
      "source": [
        "#12: What is method overriding in OOP\n",
        "Ans: In Object-Oriented Programming (OOP), method overriding occurs when a subclass provides a specific implementation of a method that is already defined in its superclass. This allows the subclass to modify or extend the behavior of the inherited method.\n",
        "\n",
        "\n"
      ],
      "metadata": {
        "id": "nD4Bq_4J705Q"
      }
    },
    {
      "cell_type": "markdown",
      "source": [
        "#13: What is a property decorator in Python\n",
        "Ans: ​In Python, the @property decorator provides a way to define methods in a class that can be accessed like attributes, enabling controlled access to instance variables. This approach enhances encapsulation by allowing you to manage how attributes are accessed and modified without changing the interface that users of your class interact with."
      ],
      "metadata": {
        "id": "6aK9Fxyo8BtB"
      }
    },
    {
      "cell_type": "markdown",
      "source": [
        "#14: Why is polymorphism important in OOP\n",
        "Ans: Polymorphism is a cornerstone of Object-Oriented Programming (OOP), enabling objects of different types to be treated as instances of a common superclass. This capability allows for methods to be invoked on objects without needing to understand their specific types, leading to more flexible and maintainable code.​"
      ],
      "metadata": {
        "id": "VANBuHgQ8QIN"
      }
    },
    {
      "cell_type": "markdown",
      "source": [
        "#15: What is an abstract class in Python\n",
        "Ans: ​In Python, an abstract class is a class that cannot be instantiated on its own and is intended to serve as a blueprint for other classes. It allows you to define methods that must be implemented by subclasses, ensuring a consistent interface while still allowing the subclasses to provide specific implementations."
      ],
      "metadata": {
        "id": "mzpkWzeE8aPB"
      }
    },
    {
      "cell_type": "markdown",
      "source": [
        "#16: What are the advantages of OOP\n",
        "Ans: ​Object-Oriented Programming (OOP) offers several key advantages that enhance software development:​\n",
        "\n",
        "Modularity: OOP divides programs into self-contained objects, each representing a distinct entity with its own data and methods. This modular approach simplifies debugging and maintenance, as developers can focus on individual objects without affecting the entire system. ​\n",
        "\n",
        "Code Reusability: Through inheritance, OOP allows classes to inherit properties and behaviors from other classes. This promotes code reuse, reduces redundancy, and accelerates development by enabling developers to build upon existing codebases. ​\n",
        "\n",
        "Maintainability: The modular structure of OOP facilitates easier maintenance and updates. Changes to one object are less likely to impact others, making it simpler to modify and extend software applications over time. ​\n",
        "\n",
        "Flexibility and Extensibility: Polymorphism in OOP enables objects to take on multiple forms, providing flexibility in code implementation. This adaptability allows developers to create extensible systems that can accommodate changing requirements."
      ],
      "metadata": {
        "id": "9vngAu0y8mNG"
      }
    },
    {
      "cell_type": "markdown",
      "source": [
        "#17: What is the difference between a class variable and an instance variable\n",
        "Ans: Class Variables\n",
        "Definition: Class variables are defined within the class but outside any methods. They are shared among all instances of the class.\n",
        "Scope: These variables are common to all instances, meaning they hold the same value across all objects of that class.​\n",
        "Access: Class variables can be accessed using the class name or through any instance of the class.​\n",
        "\n",
        " Instance Variables\n",
        "Definition: Instance variables are defined within methods, typically the __init__ constructor, using self. They are unique to each instance of the class.\n",
        "Scope: Each instance has its own copy of the instance variables, allowing different objects to hold different values for these variables.​\n",
        "Access: Instance variables are accessed through the instance (e.g., dog1.name).​\n"
      ],
      "metadata": {
        "id": "KudW_b3O8136"
      }
    },
    {
      "cell_type": "markdown",
      "source": [
        "#18: What is multiple inheritance in Python\n",
        "Ans: ​In Python, multiple inheritance allows a class to inherit attributes and methods from more than one parent class. This feature enables a class to combine functionalities from multiple sources, promoting code reuse and modularity.​\n",
        "\n"
      ],
      "metadata": {
        "id": "KwvVKtUv9h25"
      }
    },
    {
      "cell_type": "markdown",
      "source": [
        "#19: Explain the purpose of ‘’__str__’ and ‘__repr__’ ‘ methods in PythonH\n",
        "Ans: ​In Python, the __str__() and __repr__() methods are special methods used to define how objects are represented as strings. They serve different purposes and are intended for different audiences.​\n",
        "\n",
        "__repr__() — Developer-Oriented Representation\n",
        "Purpose: Provides an unambiguous string representation of the object, primarily for developers. The goal is to be able to recreate the object using eval() or by copying and pasting the output into the Python interpreter.\n",
        "\n",
        "__str__() — User-Friendly Representation\n",
        "Purpose: Provides a readable string representation of the object, intended for end-users. This representation should be easy to understand and provide meaningful information about the object."
      ],
      "metadata": {
        "id": "ASLGQE0k9pt-"
      }
    },
    {
      "cell_type": "markdown",
      "source": [
        "#20: What is the significance of the ‘super()’ function in Python\n",
        "Ams: ​The super() function in Python is a built-in utility that facilitates calling methods from a parent class in a subclass. It is particularly valuable in object-oriented programming for extending or modifying inherited behavior without explicitly naming the parent class.​\n",
        "\n"
      ],
      "metadata": {
        "id": "_xZAD4me-AKC"
      }
    },
    {
      "cell_type": "markdown",
      "source": [
        "#21:  What is the significance of the __del__ method in Python\n",
        "Ans: ​In Python, the __del__() method is a special method known as a destructor. It is called when an object is about to be destroyed, allowing for cleanup actions such as releasing external resources like files or network connections. However, its usage comes with certain considerations"
      ],
      "metadata": {
        "id": "JLlwr_zA-TrS"
      }
    },
    {
      "cell_type": "markdown",
      "source": [
        "#22: What is the difference between @staticmethod and @classmethod in Python\n",
        "Ana: @staticmethod\n",
        "Definition: A method that does not take self or cls as its first parameter. It cannot access or modify the instance (self) or class (cls) state.​\n",
        "\n",
        "Usage: Used for utility functions that perform a task in isolation and don't require access to the instance or class.​\n",
        "\n",
        "@classmethod\n",
        "Definition: A method that takes cls as its first parameter. It can access and modify the class state but not the instance state.​\n",
        "\n",
        "Usage: Used for methods that operate on the class itself, such as factory methods or alternative constructors.​\n",
        "\n",
        "\n"
      ],
      "metadata": {
        "id": "K4WtYuNz-iI8"
      }
    },
    {
      "cell_type": "markdown",
      "source": [
        "#23: How does polymorphism work in Python with inheritance\n",
        "Ans: Polymorphism is achieved when a subclass provides a specific implementation of a method that is already defined in its superclass. This process is known as method overriding. When a method is called on an object, Python determines which method to execute based on the object's class, not the reference type.​\n",
        "GeeksforGeeks\n",
        "\n"
      ],
      "metadata": {
        "id": "FiegjIRD-_iu"
      }
    },
    {
      "cell_type": "markdown",
      "source": [
        "#24: What is method chaining in Python OOP\n",
        "Ans: ​In Python's object-oriented programming (OOP), method chaining is a technique that allows multiple methods to be called on the same object in a single, continuous line of code. This approach enhances code readability and conciseness"
      ],
      "metadata": {
        "id": "LAiKT0e5_MRF"
      }
    },
    {
      "cell_type": "markdown",
      "source": [
        "#25: What is the purpose of the __call__ method in Python\n",
        "Ans: ​In Python, the __call__ method is a special or \"magic\" method that allows an instance of a class to be invoked as if it were a function. By defining this method, you enable objects to behave like callable functions, accepting arguments and returning results."
      ],
      "metadata": {
        "id": "9DjLvlPU_b5G"
      }
    },
    {
      "cell_type": "markdown",
      "source": [
        "#Practical Questions"
      ],
      "metadata": {
        "id": "Z3t5-zZE_rJR"
      }
    },
    {
      "cell_type": "code",
      "source": [
        "#1#: Create a parent class Animal with a method speak() that prints a generic message. Create a child class Dog\n",
        "#9that overrides the speak() method to print Bark\n",
        "\n",
        "class Animal:\n",
        "    def speak(self):\n",
        "        print(\"Animal makes a sound\")\n",
        "\n"
      ],
      "metadata": {
        "id": "hqM9uUWhAFNV"
      },
      "execution_count": null,
      "outputs": []
    },
    {
      "cell_type": "code",
      "source": [
        "#2: Write a program to create an abstract class Shape with a method area(). Derive classes Circle and Rectangle\n",
        "# from it and implement the area() method in both\n",
        "from abc import ABC, abstractmethod\n",
        "import math\n",
        "\n",
        "# Abstract base class\n",
        "class Shape(ABC):\n",
        "    @abstractmethod\n",
        "    def area(self):\n",
        "        pass\n",
        "\n",
        "# Derived class for Circle\n",
        "class Circle(Shape):\n",
        "    def __init__(self, radius):\n",
        "        self.radius = radius\n",
        "\n",
        "    def area(self):\n",
        "        return math.pi * self.radius ** 2\n",
        "\n",
        "# Derived class for Rectangle\n",
        "class Rectangle(Shape):\n",
        "    def __init__(self, length, width):\n",
        "        self.length = length\n",
        "        self.width = width\n",
        "\n",
        "    def area(self):\n",
        "        return self.length * self.width\n",
        "\n",
        "# Example usage\n",
        "if __name__ == \"__main__\":\n",
        "    circle = Circle(5)\n",
        "    rectangle = Rectangle(4, 6)\n",
        "\n",
        "    print(f\"Circle area: {circle.area():.2f}\")\n",
        "    print(f\"Rectangle area: {rectangle.area()}\")\n",
        "\n"
      ],
      "metadata": {
        "colab": {
          "base_uri": "https://localhost:8080/"
        },
        "id": "QufsoD-bARO4",
        "outputId": "ef48d8a5-f480-4ef1-8f73-d0087c06f92d"
      },
      "execution_count": null,
      "outputs": [
        {
          "output_type": "stream",
          "name": "stdout",
          "text": [
            "Circle area: 78.54\n",
            "Rectangle area: 24\n"
          ]
        }
      ]
    },
    {
      "cell_type": "code",
      "source": [
        "#3: . Implement a multi-level inheritance scenario where a class Vehicle has an attribute type. Derive a class Car\n",
        "# and further derive a class ElectricCar that adds a battery attribute.\n",
        "# Base class\n",
        "class Vehicle:\n",
        "    def __init__(self, vehicle_type):\n",
        "        self.vehicle_type = vehicle_type\n",
        "\n",
        "    def display_type(self):\n",
        "        return f\"Vehicle Type: {self.vehicle_type}\"\n",
        "\n",
        "# Derived class\n",
        "class Car(Vehicle):\n",
        "    def __init__(self, vehicle_type, num_doors):\n",
        "        super().__init__(vehicle_type)\n",
        "        self.num_doors = num_doors\n",
        "\n",
        "    def display_info(self):\n",
        "        return f\"{self.display_type()}, Number of doors: {self.num_doors}\"\n",
        "\n",
        "# Further derived class\n",
        "class ElectricCar(Car):\n",
        "    def __init__(self, vehicle_type, num_doors, battery_capacity):\n",
        "        super().__init__(vehicle_type, num_doors)\n",
        "        self.battery_capacity = battery_capacity\n",
        "\n",
        "    def display_full_info(self):\n",
        "        return f\"{self.display_info()}, Battery capacity: {self.battery_capacity} kWh\"\n",
        "\n",
        "# Example usage\n",
        "if __name__ == \"__main__\":\n",
        "    electric_car = ElectricCar(\"Electric\", 4, 75)\n",
        "    print(electric_car.display_full_info())\n"
      ],
      "metadata": {
        "colab": {
          "base_uri": "https://localhost:8080/"
        },
        "id": "FekbTaHrAsMk",
        "outputId": "d8ab0f76-ff99-4631-c809-9ac2fe18f02f"
      },
      "execution_count": null,
      "outputs": [
        {
          "output_type": "stream",
          "name": "stdout",
          "text": [
            "Vehicle Type: Electric, Number of doors: 4, Battery capacity: 75 kWh\n"
          ]
        }
      ]
    },
    {
      "cell_type": "code",
      "source": [
        "#4:Demonstrate polymorphism by creating a base class Bird with a method fly(). Create two derived classes\n",
        "# Sparrow and Penguin that override the fly() method.\n",
        "# Base class\n",
        "class Bird:\n",
        "    def fly(self):\n",
        "        print(\"This bird can fly.\")\n",
        "\n",
        "# Derived class\n",
        "class Sparrow(Bird):\n",
        "    def fly(self):\n",
        "        print(\"Sparrow is flying high in the sky.\")\n",
        "\n",
        "# Derived class\n",
        "class Penguin(Bird):\n",
        "    def fly(self):\n",
        "        print(\"Penguins can't fly, they waddle and swim instead.\")\n",
        "\n",
        "# Function demonstrating polymorphism\n",
        "def make_it_fly(bird: Bird):\n",
        "    bird.fly()\n",
        "\n",
        "# Create instances\n",
        "bird1 = Sparrow()\n",
        "bird2 = Penguin()\n",
        "\n",
        "# Call function with different types of birds\n",
        "make_it_fly(bird1)  # Output: Sparrow is flying high in the sky.\n",
        "make_it_fly(bird2)  # Output: Penguins can't fly, they waddle and swim instead.\n"
      ],
      "metadata": {
        "id": "qzAYO6ARBgAO",
        "colab": {
          "base_uri": "https://localhost:8080/"
        },
        "outputId": "981c94bc-ab1c-4fea-8099-0c107b1c7e04"
      },
      "execution_count": null,
      "outputs": [
        {
          "output_type": "stream",
          "name": "stdout",
          "text": [
            "Sparrow is flying high in the sky.\n",
            "Penguins can't fly, they waddle and swim instead.\n"
          ]
        }
      ]
    },
    {
      "cell_type": "code",
      "source": [
        "#5:  Write a program to demonstrate encapsulation by creating a class BankAccount with private attributes\n",
        "# balance and methods to deposit, withdraw, and check balance.\n",
        "class BankAccount:\n",
        "    def __init__(self, initial_balance=0):\n",
        "        self.__balance = initial_balance  # Private attribute\n",
        "\n",
        "    # Public method to deposit money\n",
        "    def deposit(self, amount):\n",
        "        if amount > 0:\n",
        "            self.__balance += amount\n",
        "            print(f\"Deposited: ${amount}\")\n",
        "        else:\n",
        "            print(\"Deposit amount must be positive.\")\n",
        "\n",
        "    # Public method to withdraw money\n",
        "    def withdraw(self, amount):\n",
        "        if amount > 0 and amount <= self.__balance:\n",
        "            self.__balance -= amount\n",
        "            print(f\"Withdrawn: ${amount}\")\n",
        "        else:\n",
        "            print(\"Insufficient balance or invalid amount.\")\n",
        "\n",
        "    # Public method to check balance\n",
        "    def check_balance(self):\n",
        "        print(f\"Current balance: ${self.__balance}\")\n",
        "\n",
        "\n",
        "# Example usage\n",
        "account = BankAccount(100)  # Starting with $100\n",
        "account.check_balance()     # Output: Current balance: $100\n",
        "\n",
        "account.deposit(50)         # Output: Deposited: $50\n",
        "account.check_balance()     # Output: Current balance: $150\n",
        "\n",
        "account.withdraw(70)        # Output: Withdrawn: $70\n",
        "account.check_balance()     # Output: Current balance: $80\n",
        "\n",
        "# Trying to access private attribute directly (not recommended)\n",
        "# print(account.__balance)  # This will raise an AttributeError\n"
      ],
      "metadata": {
        "colab": {
          "base_uri": "https://localhost:8080/"
        },
        "id": "TLQ31U9Febvq",
        "outputId": "aa2fe385-a7a2-424e-e68d-2e71a2fd4c57"
      },
      "execution_count": null,
      "outputs": [
        {
          "output_type": "stream",
          "name": "stdout",
          "text": [
            "Current balance: $100\n",
            "Deposited: $50\n",
            "Current balance: $150\n",
            "Withdrawn: $70\n",
            "Current balance: $80\n"
          ]
        }
      ]
    },
    {
      "cell_type": "code",
      "source": [
        "#6:  Demonstrate runtime polymorphism using a method play() in a base class Instrument. Derive classes Guitar\n",
        "# and Piano that implement their own version of play().\n",
        "# Base class\n",
        "class Instrument:\n",
        "    def play(self):\n",
        "        print(\"Instrument is playing...\")\n",
        "\n",
        "# Derived class\n",
        "class Guitar(Instrument):\n",
        "    def play(self):\n",
        "        print(\"Strumming the guitar strings.\")\n",
        "\n",
        "# Derived class\n",
        "class Piano(Instrument):\n",
        "    def play(self):\n",
        "        print(\"Playing the piano keys.\")\n",
        "\n",
        "# Function to demonstrate runtime polymorphism\n",
        "def perform(instrument: Instrument):\n",
        "    instrument.play()\n",
        "\n",
        "# Create instances\n",
        "inst1 = Guitar()\n",
        "inst2 = Piano()\n",
        "\n",
        "# Demonstrate polymorphism\n",
        "perform(inst1)  # Output: Strumming the guitar strings.\n",
        "perform(inst2)  # Output: Playing the piano keys.\n"
      ],
      "metadata": {
        "colab": {
          "base_uri": "https://localhost:8080/"
        },
        "id": "MuHBXbzBekD4",
        "outputId": "46cfbef1-6020-4f8b-e2ac-db6613783d02"
      },
      "execution_count": null,
      "outputs": [
        {
          "output_type": "stream",
          "name": "stdout",
          "text": [
            "Strumming the guitar strings.\n",
            "Playing the piano keys.\n"
          ]
        }
      ]
    },
    {
      "cell_type": "code",
      "source": [
        "#7:  Create a class MathOperations with a class method add_numbers() to add two numbers and a static\n",
        "# method subtract_numbers() to subtract two numbers.\n",
        "class MathOperations:\n",
        "\n",
        "    # Class method to add two numbers\n",
        "    @classmethod\n",
        "    def add_numbers(cls, a, b):\n",
        "        return a + b\n",
        "\n",
        "    # Static method to subtract two numbers\n",
        "    @staticmethod\n",
        "    def subtract_numbers(a, b):\n",
        "        return a - b\n",
        "\n",
        "# Example usage\n",
        "sum_result = MathOperations.add_numbers(10, 5)\n",
        "print(f\"Sum: {sum_result}\")  # Output: Sum: 15\n",
        "\n",
        "diff_result = MathOperations.subtract_numbers(10, 5)\n",
        "print(f\"Difference: {diff_result}\")  # Output: Difference: 5\n"
      ],
      "metadata": {
        "colab": {
          "base_uri": "https://localhost:8080/"
        },
        "id": "g0dZC3fGesO4",
        "outputId": "a5df1208-f375-48e6-cce7-d33820a2e1ac"
      },
      "execution_count": null,
      "outputs": [
        {
          "output_type": "stream",
          "name": "stdout",
          "text": [
            "Sum: 15\n",
            "Difference: 5\n"
          ]
        }
      ]
    },
    {
      "cell_type": "code",
      "source": [
        "#8: Implement a class Person with a class method to count the total number of persons created.\n",
        "class Person:\n",
        "    # Class variable to keep count\n",
        "    _person_count = 0\n",
        "\n",
        "    def __init__(self, name):\n",
        "        self.name = name\n",
        "        # Increment count every time a new person is created\n",
        "        Person._person_count += 1\n",
        "\n",
        "    # Class method to access the count\n",
        "    @classmethod\n",
        "    def total_persons(cls):\n",
        "        return cls._person_count\n",
        "\n",
        "# Creating Person objects\n",
        "p1 = Person(\"Alice\")\n",
        "p2 = Person(\"Bob\")\n",
        "p3 = Person(\"Charlie\")\n",
        "\n",
        "# Checking total persons created\n",
        "print(f\"Total persons created: {Person.total_persons()}\")  # Output: 3\n"
      ],
      "metadata": {
        "colab": {
          "base_uri": "https://localhost:8080/"
        },
        "id": "IoSmjWlRe3aw",
        "outputId": "a11f5d13-30a6-4f2a-8790-3e930bd18cea"
      },
      "execution_count": null,
      "outputs": [
        {
          "output_type": "stream",
          "name": "stdout",
          "text": [
            "Total persons created: 3\n"
          ]
        }
      ]
    },
    {
      "cell_type": "code",
      "source": [
        "#9: Write a class Fraction with attributes numerator and denominator. Override the str method to display the\n",
        "# fraction as \"numerator/denominator\".\n",
        "class Fraction:\n",
        "    def __init__(self, numerator, denominator):\n",
        "        self.numerator = numerator\n",
        "        self.denominator = denominator\n",
        "\n",
        "    # Override the str() method\n",
        "    def __str__(self):\n",
        "        return f\"{self.numerator}/{self.denominator}\"\n",
        "\n",
        "# Example usage\n",
        "f1 = Fraction(3, 4)\n",
        "f2 = Fraction(7, 2)\n",
        "\n",
        "print(f1)  # Output: 3/4\n",
        "print(f2)  # Output: 7/2\n"
      ],
      "metadata": {
        "colab": {
          "base_uri": "https://localhost:8080/"
        },
        "id": "Mb1FDCmrfEC9",
        "outputId": "f48c589b-e71d-4d9e-ffcd-f999c2a33a35"
      },
      "execution_count": null,
      "outputs": [
        {
          "output_type": "stream",
          "name": "stdout",
          "text": [
            "3/4\n",
            "7/2\n"
          ]
        }
      ]
    },
    {
      "cell_type": "code",
      "source": [
        "#10:  Demonstrate operator overloading by creating a class Vector and overriding the add method to add two\n",
        "# vectors.\n",
        "class Vector:\n",
        "    def __init__(self, x, y):\n",
        "        self.x = x\n",
        "        self.y = y\n",
        "\n",
        "    # Overload the + operator\n",
        "    def __add__(self, other):\n",
        "        return Vector(self.x + other.x, self.y + other.y)\n",
        "\n",
        "    # For easy printing\n",
        "    def __str__(self):\n",
        "        return f\"({self.x}, {self.y})\"\n",
        "\n",
        "# Example usage\n",
        "v1 = Vector(2, 3)\n",
        "v2 = Vector(4, 5)\n",
        "v3 = v1 + v2  # Uses the overloaded __add__ method\n",
        "\n",
        "print(\"v1:\", v1)  # Output: (2, 3)\n",
        "print(\"v2:\", v2)  # Output: (4, 5)\n",
        "print(\"v1 + v2 =\", v3)  # Output: (6, 8)\n"
      ],
      "metadata": {
        "colab": {
          "base_uri": "https://localhost:8080/"
        },
        "id": "gmhvdMc0fURY",
        "outputId": "66b235b1-1330-4304-e40a-95acac579bd3"
      },
      "execution_count": null,
      "outputs": [
        {
          "output_type": "stream",
          "name": "stdout",
          "text": [
            "v1: (2, 3)\n",
            "v2: (4, 5)\n",
            "v1 + v2 = (6, 8)\n"
          ]
        }
      ]
    },
    {
      "cell_type": "code",
      "source": [
        "#11:  Create a class Person with attributes name and age. Add a method greet() that prints \"Hello, my name is\n",
        "# {name} and I am {age} years old.\"\n",
        "class Person:\n",
        "    def __init__(self, name, age):\n",
        "        self.name = name\n",
        "        self.age = age\n",
        "\n",
        "    def greet(self):\n",
        "        print(f\"Hello, my name is {self.name} and I am {self.age} years old.\")\n",
        "\n",
        "# Example usage\n",
        "p1 = Person(\"Alice\", 25)\n",
        "p2 = Person(\"Bob\", 30)\n",
        "\n",
        "p1.greet()  # Output: Hello, my name is Alice and I am 25 years old.\n",
        "p2.greet()  # Output: Hello, my name is Bob and I am 30 years old.\n"
      ],
      "metadata": {
        "colab": {
          "base_uri": "https://localhost:8080/"
        },
        "id": "uWrNWH19fjOJ",
        "outputId": "61107709-daa7-4d3a-e808-5a38a5f5e1e5"
      },
      "execution_count": null,
      "outputs": [
        {
          "output_type": "stream",
          "name": "stdout",
          "text": [
            "Hello, my name is Alice and I am 25 years old.\n",
            "Hello, my name is Bob and I am 30 years old.\n"
          ]
        }
      ]
    },
    {
      "cell_type": "code",
      "source": [
        "#12:  Implement a class Student with attributes name and grades. Create a method average_grade() to compute\n",
        "# the average of the grades.\n",
        "class Student:\n",
        "    def __init__(self, name, grades):\n",
        "        self.name = name\n",
        "        self.grades = grades  # Expecting a list of numbers\n",
        "\n",
        "    def average_grade(self):\n",
        "        if not self.grades:\n",
        "            return 0  # Avoid division by zero\n",
        "        return sum(self.grades) / len(self.grades)\n",
        "\n",
        "# Example usage\n",
        "s1 = Student(\"Alice\", [85, 90, 78, 92])\n",
        "s2 = Student(\"Bob\", [70, 75, 80])\n",
        "\n",
        "print(f\"{s1.name}'s average grade: {s1.average_grade():.2f}\")  # Output: Alice's average grade: 86.25\n",
        "print(f\"{s2.name}'s average grade: {s2.average_grade():.2f}\")  # Output: Bob's average grade: 75.00\n"
      ],
      "metadata": {
        "colab": {
          "base_uri": "https://localhost:8080/"
        },
        "id": "gNe9NxgJftmu",
        "outputId": "818afbd6-fd0a-4760-c55d-6a9b0d634915"
      },
      "execution_count": null,
      "outputs": [
        {
          "output_type": "stream",
          "name": "stdout",
          "text": [
            "Alice's average grade: 86.25\n",
            "Bob's average grade: 75.00\n"
          ]
        }
      ]
    },
    {
      "cell_type": "code",
      "source": [
        "#13:  Create a class Rectangle with methods set_dimensions() to set the dimensions and area() to calculate the\n",
        "# area.\n",
        "class Rectangle:\n",
        "    def __init__(self):\n",
        "        self.length = 0\n",
        "        self.width = 0\n",
        "\n",
        "    # Method to set the dimensions\n",
        "    def set_dimensions(self, length, width):\n",
        "        self.length = length\n",
        "        self.width = width\n",
        "\n",
        "    # Method to calculate area\n",
        "    def area(self):\n",
        "        return self.length * self.width\n",
        "\n",
        "# Example usage\n",
        "rect = Rectangle()\n",
        "rect.set_dimensions(5, 3)\n",
        "print(f\"Area of rectangle: {rect.area()}\")  # Output: Area of rectangle: 15\n"
      ],
      "metadata": {
        "colab": {
          "base_uri": "https://localhost:8080/"
        },
        "id": "QLd2D9O6f3KK",
        "outputId": "29095667-d52f-43e9-98b8-56ed6930018d"
      },
      "execution_count": null,
      "outputs": [
        {
          "output_type": "stream",
          "name": "stdout",
          "text": [
            "Area of rectangle: 15\n"
          ]
        }
      ]
    },
    {
      "cell_type": "code",
      "source": [
        "#14:  Create a class Employee with a method calculate_salary() that computes the salary based on hours worked\n",
        "# and hourly rate. Create a derived class Manager that adds a bonus to the salary\n",
        "# Base class Employee\n",
        "class Employee:\n",
        "    def __init__(self, name, hours_worked, hourly_rate):\n",
        "        self.name = name\n",
        "        self.hours_worked = hours_worked\n",
        "        self.hourly_rate = hourly_rate\n",
        "\n",
        "    def calculate_salary(self):\n",
        "        return self.hours_worked * self.hourly_rate\n",
        "\n",
        "# Derived class Manager that adds a bonus to the salary\n",
        "class Manager(Employee):\n",
        "    def __init__(self, name, hours_worked, hourly_rate, bonus):\n",
        "        super().__init__(name, hours_worked, hourly_rate)\n",
        "        self.bonus = bonus\n",
        "\n",
        "    def calculate_salary(self):\n",
        "        base_salary = super().calculate_salary()\n",
        "        return base_salary + self.bonus\n",
        "\n",
        "# Example usage\n",
        "emp1 = Employee(\"John\", 40, 25)  # Employee with 40 hours at $25/hour\n",
        "emp2 = Manager(\"Alice\", 40, 30, 500)  # Manager with 40 hours at $30/hour and $500 bonus\n",
        "\n",
        "print(f\"{emp1.name}'s salary: ${emp1.calculate_salary()}\")  # Output: John's salary: $1000\n",
        "print(f\"{emp2.name}'s salary: ${emp2.calculate_salary()}\")  # Output: Alice's salary: $1700\n"
      ],
      "metadata": {
        "colab": {
          "base_uri": "https://localhost:8080/"
        },
        "id": "-JhyW3hlf-vz",
        "outputId": "7b7aaf8c-f7db-4d88-cc0d-cd4bf629d726"
      },
      "execution_count": null,
      "outputs": [
        {
          "output_type": "stream",
          "name": "stdout",
          "text": [
            "John's salary: $1000\n",
            "Alice's salary: $1700\n"
          ]
        }
      ]
    },
    {
      "cell_type": "code",
      "source": [
        "#15:  Create a class Product with attributes name, price, and quantity. Implement a method total_price() that\n",
        "# calculates the total price of the product\n",
        "class Product:\n",
        "    def __init__(self, name, price, quantity):\n",
        "        self.name = name\n",
        "        self.price = price\n",
        "        self.quantity = quantity\n",
        "\n",
        "    # Method to calculate total price\n",
        "    def total_price(self):\n",
        "        return self.price * self.quantity\n",
        "\n",
        "# Example usage\n",
        "product1 = Product(\"Laptop\", 1000, 3)\n",
        "product2 = Product(\"Headphones\", 50, 5)\n",
        "\n",
        "print(f\"Total price of {product1.name}: ${product1.total_price()}\")  # Output: Total price of Laptop: $3000\n",
        "print(f\"Total price of {product2.name}: ${product2.total_price()}\")  # Output: Total price of Headphones: $250\n"
      ],
      "metadata": {
        "colab": {
          "base_uri": "https://localhost:8080/"
        },
        "id": "5ZTvIlzBgPmt",
        "outputId": "5c7fbd01-0ec0-4706-a219-d66f5475b9d4"
      },
      "execution_count": null,
      "outputs": [
        {
          "output_type": "stream",
          "name": "stdout",
          "text": [
            "Total price of Laptop: $3000\n",
            "Total price of Headphones: $250\n"
          ]
        }
      ]
    },
    {
      "cell_type": "code",
      "source": [
        "#16: Create a class Animal with an abstract method sound(). Create two derived classes Cow and Sheep that\n",
        "# implement the sound() method.\n",
        "from abc import ABC, abstractmethod\n",
        "\n",
        "# Abstract base class\n",
        "class Animal(ABC):\n",
        "    @abstractmethod\n",
        "    def sound(self):\n",
        "        pass  # Abstract method, no implementation here\n",
        "\n",
        "# Derived class Cow\n",
        "class Cow(Animal):\n",
        "    def sound(self):\n",
        "        print(\"Moo!\")\n",
        "\n",
        "# Derived class Sheep\n",
        "class Sheep(Animal):\n",
        "    def sound(self):\n",
        "        print(\"Baa!\")\n",
        "\n",
        "# Example usage\n",
        "cow = Cow()\n",
        "sheep = Sheep()\n",
        "\n",
        "cow.sound()   # Output: Moo!\n",
        "sheep.sound() # Output: Baa!\n"
      ],
      "metadata": {
        "colab": {
          "base_uri": "https://localhost:8080/"
        },
        "id": "ZuXrvzJQgZzT",
        "outputId": "4d6581bc-04ac-4728-af31-4994c14c0834"
      },
      "execution_count": null,
      "outputs": [
        {
          "output_type": "stream",
          "name": "stdout",
          "text": [
            "Moo!\n",
            "Baa!\n"
          ]
        }
      ]
    },
    {
      "cell_type": "code",
      "source": [
        "#17:  Create a class Book with attributes title, author, and year_published. Add a method get_book_info() that\n",
        "# returns a formatted string with the book's details.\n",
        "class Book:\n",
        "    def __init__(self, title, author, year_published):\n",
        "        self.title = title\n",
        "        self.author = author\n",
        "        self.year_published = year_published\n",
        "\n",
        "    # Method to return formatted book information\n",
        "    def get_book_info(self):\n",
        "        return f\"'{self.title}' by {self.author}, published in {self.year_published}\"\n",
        "\n",
        "# Example usage\n",
        "book1 = Book(\"1984\", \"George Orwell\", 1949)\n",
        "book2 = Book(\"To Kill a Mockingbird\", \"Harper Lee\", 1960)\n",
        "\n",
        "print(book1.get_book_info())  # Output: '1984' by George Orwell, published in 1949\n",
        "print(book2.get_book_info())  # Output: 'To Kill a Mockingbird' by Harper Lee, published in 1960\n"
      ],
      "metadata": {
        "colab": {
          "base_uri": "https://localhost:8080/"
        },
        "id": "AwkGHVM7goMM",
        "outputId": "79af6fa7-80ca-4b10-b41d-a2dd3e1b38a6"
      },
      "execution_count": null,
      "outputs": [
        {
          "output_type": "stream",
          "name": "stdout",
          "text": [
            "'1984' by George Orwell, published in 1949\n",
            "'To Kill a Mockingbird' by Harper Lee, published in 1960\n"
          ]
        }
      ]
    },
    {
      "cell_type": "code",
      "source": [
        "#18:  Create a class House with attributes address and price. Create a derived class Mansion that adds an\n",
        "# attribute number_of_rooms.\n",
        "# Base class House\n",
        "class House:\n",
        "    def __init__(self, address, price):\n",
        "        self.address = address\n",
        "        self.price = price\n",
        "\n",
        "    def get_info(self):\n",
        "        return f\"Address: {self.address}, Price: ${self.price}\"\n",
        "\n",
        "# Derived class Mansion that adds number_of_rooms\n",
        "class Mansion(House):\n",
        "    def __init__(self, address, price, number_of_rooms):\n",
        "        super().__init__(address, price)  # Initialize the base class\n",
        "        self.number_of_rooms = number_of_rooms\n",
        "\n",
        "    def get_info(self):\n",
        "        # Call base class method and add number of rooms\n",
        "        return f\"Address: {self.address}, Price: ${self.price}, Rooms: {self.number_of_rooms}\"\n",
        "\n",
        "# Example usage\n"
      ],
      "metadata": {
        "id": "uypIrX7sgw1I"
      },
      "execution_count": null,
      "outputs": []
    }
  ]
}